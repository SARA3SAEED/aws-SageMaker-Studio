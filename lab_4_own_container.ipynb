{
  "cells": [
    {
      "cell_type": "markdown",
      "metadata": {
        "id": "view-in-github",
        "colab_type": "text"
      },
      "source": [
        "<a href=\"https://colab.research.google.com/github/SARA3SAEED/aws-SageMaker-Studio/blob/main/lab_4_own_container.ipynb\" target=\"_parent\"><img src=\"https://colab.research.google.com/assets/colab-badge.svg\" alt=\"Open In Colab\"/></a>"
      ]
    },
    {
      "cell_type": "markdown",
      "metadata": {
        "id": "KcdIEP90rYfc"
      },
      "source": [
        "## Task 4: Perform data processing with your own container\n",
        "\n",
        "In the previous notebook, you used Amazon SageMaker Processing and the scikit-learn built-in container for data processing.\n",
        "\n",
        "In this notebook, you set up the environment needed to run a scikit-learn script with your own processing container.\n",
        "\n",
        "You create your own Docker image, build your processing container, and use a **ScriptProcessor** class from the Amazon SageMaker Python SDK to run a scikit-learn preprocessing script within the container.\n",
        "\n",
        "Finally, you validate the data processing results saved in Amazon Simple Storage Service (Amazon S3)."
      ]
    },
    {
      "cell_type": "markdown",
      "metadata": {
        "id": "IZxsRP9frYfg"
      },
      "source": [
        "### Task 4.1: Setup the environment\n",
        "\n",
        "In this task, you install the required libraries and dependencies.\n",
        "\n",
        "You set up an Amazon S3 bucket to store the outputs from the processing job and also get the execution role to run the SageMaker Processing job."
      ]
    },
    {
      "cell_type": "code",
      "execution_count": null,
      "metadata": {
        "tags": [],
        "id": "iKFQaYPGrYfg",
        "outputId": "7101b828-fef2-43d3-964e-8482a12ac37b"
      },
      "outputs": [
        {
          "name": "stdout",
          "output_type": "stream",
          "text": [
            "sagemaker.config INFO - Not applying SDK defaults from location: /etc/xdg/sagemaker/config.yaml\n",
            "sagemaker.config INFO - Not applying SDK defaults from location: /root/.config/sagemaker/config.yaml\n",
            "SageMaker Execution Role:  arn:aws:iam::593048189292:role/SageMakerStudioRole\n",
            "Bucket:  labstack-585a2104-a869-485b-84fd-41b-labdatabucket-b2yq7koihjmz\n"
          ]
        }
      ],
      "source": [
        "#install-dependencies\n",
        "import logging\n",
        "import boto3\n",
        "import sagemaker\n",
        "import pandas as pd\n",
        "\n",
        "sagemaker_logger = logging.getLogger(\"sagemaker\")\n",
        "sagemaker_logger.setLevel(logging.INFO)\n",
        "sagemaker_logger.addHandler(logging.StreamHandler())\n",
        "\n",
        "#Execution role to run the SageMaker Processing job\n",
        "role = sagemaker.get_execution_role()\n",
        "print(\"SageMaker Execution Role: \", role)\n",
        "\n",
        "#S3 bucket to read the SKLearn processing script and writing processing job outputs\n",
        "s3 = boto3.resource('s3')\n",
        "for buckets in s3.buckets.all():\n",
        "    if 'labdatabucket' in buckets.name:\n",
        "        bucket = buckets.name\n",
        "print(\"Bucket: \", bucket)"
      ]
    },
    {
      "cell_type": "markdown",
      "metadata": {
        "id": "z402z54RrYfj"
      },
      "source": [
        "### Task 4.2: Create a processing container\n",
        "\n",
        "In this task, you define and create a scikit-learn container using the Dockerfile."
      ]
    },
    {
      "cell_type": "markdown",
      "metadata": {
        "id": "BxLP1qmNrYfj"
      },
      "source": [
        "### Task 4.3: Create a Dockerfile\n",
        "\n",
        "In this task, you create a Docker directory and add the Dockerfile used to create the processing container. Because you are creating a scikit-learn container, you install pandas and scikit-learn."
      ]
    },
    {
      "cell_type": "code",
      "execution_count": null,
      "metadata": {
        "tags": [],
        "id": "ecQc8m7KrYfk"
      },
      "outputs": [],
      "source": [
        "%mkdir docker"
      ]
    },
    {
      "cell_type": "code",
      "execution_count": null,
      "metadata": {
        "tags": [],
        "id": "c5ryt-LtrYfk",
        "outputId": "69acf86a-b93e-45cd-f581-ed4ec87002d4"
      },
      "outputs": [
        {
          "name": "stdout",
          "output_type": "stream",
          "text": [
            "Writing docker/Dockerfile\n"
          ]
        }
      ],
      "source": [
        "%%writefile docker/Dockerfile\n",
        "FROM public.ecr.aws/docker/library/python:3.10-slim-bullseye\n",
        "\n",
        "RUN pip3 install joblib threadpoolctl pandas numpy scikit-learn==1.4.2\n",
        "ENV PYTHONUNBUFFERED=TRUE\n",
        "\n",
        "ENTRYPOINT [\"python3\"]"
      ]
    },
    {
      "cell_type": "markdown",
      "metadata": {
        "id": "jG_fpjt5rYfl"
      },
      "source": [
        "### Task 4.4: Build the container image\n",
        "\n",
        "In this task, you create a custom container image using the Amazon SageMaker Studio image build command line interface (CLI).\n",
        "\n",
        "By using the Amazon SageMaker Studio image build CLI, you can build Amazon SageMaker compatible Docker images directly from your SageMaker Studio environments.\n",
        "\n",
        "Install the Sagemaker Studio image build package:"
      ]
    },
    {
      "cell_type": "code",
      "execution_count": null,
      "metadata": {
        "tags": [],
        "id": "K8foh4vJrYfm",
        "outputId": "331442c9-db78-4fbd-99d7-571152069e71"
      },
      "outputs": [
        {
          "name": "stdout",
          "output_type": "stream",
          "text": [
            "Collecting sagemaker-studio-image-build\n",
            "  Downloading sagemaker_studio_image_build-0.6.0.tar.gz (13 kB)\n",
            "  Preparing metadata (setup.py) ... \u001b[?25ldone\n",
            "\u001b[?25hRequirement already satisfied: boto3<2.0,>=1.10.44 in /opt/conda/lib/python3.10/site-packages (from sagemaker-studio-image-build) (1.35.14)\n",
            "Requirement already satisfied: sagemaker<3.0 in /opt/conda/lib/python3.10/site-packages (from sagemaker-studio-image-build) (2.231.0)\n",
            "Requirement already satisfied: botocore<1.36.0,>=1.35.14 in /opt/conda/lib/python3.10/site-packages (from boto3<2.0,>=1.10.44->sagemaker-studio-image-build) (1.35.14)\n",
            "Requirement already satisfied: jmespath<2.0.0,>=0.7.1 in /opt/conda/lib/python3.10/site-packages (from boto3<2.0,>=1.10.44->sagemaker-studio-image-build) (1.0.1)\n",
            "Requirement already satisfied: s3transfer<0.11.0,>=0.10.0 in /opt/conda/lib/python3.10/site-packages (from boto3<2.0,>=1.10.44->sagemaker-studio-image-build) (0.10.1)\n",
            "Requirement already satisfied: attrs<24,>=23.1.0 in /opt/conda/lib/python3.10/site-packages (from sagemaker<3.0->sagemaker-studio-image-build) (23.2.0)\n",
            "Requirement already satisfied: cloudpickle==2.2.1 in /opt/conda/lib/python3.10/site-packages (from sagemaker<3.0->sagemaker-studio-image-build) (2.2.1)\n",
            "Requirement already satisfied: docker in /opt/conda/lib/python3.10/site-packages (from sagemaker<3.0->sagemaker-studio-image-build) (6.1.3)\n",
            "Requirement already satisfied: google-pasta in /opt/conda/lib/python3.10/site-packages (from sagemaker<3.0->sagemaker-studio-image-build) (0.2.0)\n",
            "Requirement already satisfied: importlib-metadata<7.0,>=1.4.0 in /opt/conda/lib/python3.10/site-packages (from sagemaker<3.0->sagemaker-studio-image-build) (6.11.0)\n",
            "Requirement already satisfied: jsonschema in /opt/conda/lib/python3.10/site-packages (from sagemaker<3.0->sagemaker-studio-image-build) (4.21.1)\n",
            "Requirement already satisfied: numpy<2.0,>=1.9.0 in /opt/conda/lib/python3.10/site-packages (from sagemaker<3.0->sagemaker-studio-image-build) (1.26.4)\n",
            "Requirement already satisfied: packaging>=20.0 in /opt/conda/lib/python3.10/site-packages (from sagemaker<3.0->sagemaker-studio-image-build) (23.2)\n",
            "Requirement already satisfied: pandas in /opt/conda/lib/python3.10/site-packages (from sagemaker<3.0->sagemaker-studio-image-build) (2.2.2)\n",
            "Requirement already satisfied: pathos in /opt/conda/lib/python3.10/site-packages (from sagemaker<3.0->sagemaker-studio-image-build) (0.3.2)\n",
            "Requirement already satisfied: platformdirs in /opt/conda/lib/python3.10/site-packages (from sagemaker<3.0->sagemaker-studio-image-build) (4.1.0)\n",
            "Requirement already satisfied: protobuf<5.0,>=3.12 in /opt/conda/lib/python3.10/site-packages (from sagemaker<3.0->sagemaker-studio-image-build) (4.25.3)\n",
            "Requirement already satisfied: psutil in /opt/conda/lib/python3.10/site-packages (from sagemaker<3.0->sagemaker-studio-image-build) (5.9.8)\n",
            "Requirement already satisfied: pyyaml~=6.0 in /opt/conda/lib/python3.10/site-packages (from sagemaker<3.0->sagemaker-studio-image-build) (6.0.1)\n",
            "Requirement already satisfied: requests in /opt/conda/lib/python3.10/site-packages (from sagemaker<3.0->sagemaker-studio-image-build) (2.31.0)\n",
            "Requirement already satisfied: sagemaker-core<2.0.0,>=1.0.0 in /opt/conda/lib/python3.10/site-packages (from sagemaker<3.0->sagemaker-studio-image-build) (1.0.3)\n",
            "Requirement already satisfied: schema in /opt/conda/lib/python3.10/site-packages (from sagemaker<3.0->sagemaker-studio-image-build) (0.7.5)\n",
            "Requirement already satisfied: smdebug-rulesconfig==1.0.1 in /opt/conda/lib/python3.10/site-packages (from sagemaker<3.0->sagemaker-studio-image-build) (1.0.1)\n",
            "Requirement already satisfied: tblib<4,>=1.7.0 in /opt/conda/lib/python3.10/site-packages (from sagemaker<3.0->sagemaker-studio-image-build) (3.0.0)\n",
            "Requirement already satisfied: tqdm in /opt/conda/lib/python3.10/site-packages (from sagemaker<3.0->sagemaker-studio-image-build) (4.66.1)\n",
            "Requirement already satisfied: urllib3<3.0.0,>=1.26.8 in /opt/conda/lib/python3.10/site-packages (from sagemaker<3.0->sagemaker-studio-image-build) (2.2.1)\n",
            "Requirement already satisfied: python-dateutil<3.0.0,>=2.1 in /opt/conda/lib/python3.10/site-packages (from botocore<1.36.0,>=1.35.14->boto3<2.0,>=1.10.44->sagemaker-studio-image-build) (2.9.0)\n",
            "Requirement already satisfied: zipp>=0.5 in /opt/conda/lib/python3.10/site-packages (from importlib-metadata<7.0,>=1.4.0->sagemaker<3.0->sagemaker-studio-image-build) (3.17.0)\n",
            "Requirement already satisfied: pydantic<3.0.0,>=1.7.0 in /opt/conda/lib/python3.10/site-packages (from sagemaker-core<2.0.0,>=1.0.0->sagemaker<3.0->sagemaker-studio-image-build) (2.7.0)\n",
            "Requirement already satisfied: rich<14.0.0,>=13.0.0 in /opt/conda/lib/python3.10/site-packages (from sagemaker-core<2.0.0,>=1.0.0->sagemaker<3.0->sagemaker-studio-image-build) (13.7.1)\n",
            "Requirement already satisfied: mock<5.0,>4.0 in /opt/conda/lib/python3.10/site-packages (from sagemaker-core<2.0.0,>=1.0.0->sagemaker<3.0->sagemaker-studio-image-build) (4.0.3)\n",
            "Requirement already satisfied: jsonschema-specifications>=2023.03.6 in /opt/conda/lib/python3.10/site-packages (from jsonschema->sagemaker<3.0->sagemaker-studio-image-build) (2023.12.1)\n",
            "Requirement already satisfied: referencing>=0.28.4 in /opt/conda/lib/python3.10/site-packages (from jsonschema->sagemaker<3.0->sagemaker-studio-image-build) (0.34.0)\n",
            "Requirement already satisfied: rpds-py>=0.7.1 in /opt/conda/lib/python3.10/site-packages (from jsonschema->sagemaker<3.0->sagemaker-studio-image-build) (0.18.0)\n",
            "Requirement already satisfied: websocket-client>=0.32.0 in /opt/conda/lib/python3.10/site-packages (from docker->sagemaker<3.0->sagemaker-studio-image-build) (1.7.0)\n",
            "Requirement already satisfied: charset-normalizer<4,>=2 in /opt/conda/lib/python3.10/site-packages (from requests->sagemaker<3.0->sagemaker-studio-image-build) (3.3.2)\n",
            "Requirement already satisfied: idna<4,>=2.5 in /opt/conda/lib/python3.10/site-packages (from requests->sagemaker<3.0->sagemaker-studio-image-build) (3.6)\n",
            "Requirement already satisfied: certifi>=2017.4.17 in /opt/conda/lib/python3.10/site-packages (from requests->sagemaker<3.0->sagemaker-studio-image-build) (2024.2.2)\n",
            "Requirement already satisfied: six in /opt/conda/lib/python3.10/site-packages (from google-pasta->sagemaker<3.0->sagemaker-studio-image-build) (1.16.0)\n",
            "Requirement already satisfied: pytz>=2020.1 in /opt/conda/lib/python3.10/site-packages (from pandas->sagemaker<3.0->sagemaker-studio-image-build) (2024.1)\n",
            "Requirement already satisfied: tzdata>=2022.7 in /opt/conda/lib/python3.10/site-packages (from pandas->sagemaker<3.0->sagemaker-studio-image-build) (2024.1)\n",
            "Requirement already satisfied: ppft>=1.7.6.8 in /opt/conda/lib/python3.10/site-packages (from pathos->sagemaker<3.0->sagemaker-studio-image-build) (1.7.6.8)\n",
            "Requirement already satisfied: dill>=0.3.8 in /opt/conda/lib/python3.10/site-packages (from pathos->sagemaker<3.0->sagemaker-studio-image-build) (0.3.8)\n",
            "Requirement already satisfied: pox>=0.3.4 in /opt/conda/lib/python3.10/site-packages (from pathos->sagemaker<3.0->sagemaker-studio-image-build) (0.3.4)\n",
            "Requirement already satisfied: multiprocess>=0.70.16 in /opt/conda/lib/python3.10/site-packages (from pathos->sagemaker<3.0->sagemaker-studio-image-build) (0.70.16)\n",
            "Requirement already satisfied: contextlib2>=0.5.5 in /opt/conda/lib/python3.10/site-packages (from schema->sagemaker<3.0->sagemaker-studio-image-build) (21.6.0)\n",
            "Requirement already satisfied: annotated-types>=0.4.0 in /opt/conda/lib/python3.10/site-packages (from pydantic<3.0.0,>=1.7.0->sagemaker-core<2.0.0,>=1.0.0->sagemaker<3.0->sagemaker-studio-image-build) (0.6.0)\n",
            "Requirement already satisfied: pydantic-core==2.18.1 in /opt/conda/lib/python3.10/site-packages (from pydantic<3.0.0,>=1.7.0->sagemaker-core<2.0.0,>=1.0.0->sagemaker<3.0->sagemaker-studio-image-build) (2.18.1)\n",
            "Requirement already satisfied: typing-extensions>=4.6.1 in /opt/conda/lib/python3.10/site-packages (from pydantic<3.0.0,>=1.7.0->sagemaker-core<2.0.0,>=1.0.0->sagemaker<3.0->sagemaker-studio-image-build) (4.11.0)\n",
            "Requirement already satisfied: markdown-it-py>=2.2.0 in /opt/conda/lib/python3.10/site-packages (from rich<14.0.0,>=13.0.0->sagemaker-core<2.0.0,>=1.0.0->sagemaker<3.0->sagemaker-studio-image-build) (3.0.0)\n",
            "Requirement already satisfied: pygments<3.0.0,>=2.13.0 in /opt/conda/lib/python3.10/site-packages (from rich<14.0.0,>=13.0.0->sagemaker-core<2.0.0,>=1.0.0->sagemaker<3.0->sagemaker-studio-image-build) (2.17.2)\n",
            "Requirement already satisfied: mdurl~=0.1 in /opt/conda/lib/python3.10/site-packages (from markdown-it-py>=2.2.0->rich<14.0.0,>=13.0.0->sagemaker-core<2.0.0,>=1.0.0->sagemaker<3.0->sagemaker-studio-image-build) (0.1.2)\n",
            "Building wheels for collected packages: sagemaker-studio-image-build\n",
            "  Building wheel for sagemaker-studio-image-build (setup.py) ... \u001b[?25ldone\n",
            "\u001b[?25h  Created wheel for sagemaker-studio-image-build: filename=sagemaker_studio_image_build-0.6.0-py3-none-any.whl size=13454 sha256=69163d06c0070e289a01ebe9cff24543dd8893a47a66e9d39e8126c92ecd7a5b\n",
            "  Stored in directory: /root/.cache/pip/wheels/69/7b/d1/1318b1530ee5322c9be00f206badea11b5148626ef58c0e0dc\n",
            "Successfully built sagemaker-studio-image-build\n",
            "Installing collected packages: sagemaker-studio-image-build\n",
            "Successfully installed sagemaker-studio-image-build-0.6.0\n",
            "\u001b[33mWARNING: Running pip as the 'root' user can result in broken permissions and conflicting behaviour with the system package manager. It is recommended to use a virtual environment instead: https://pip.pypa.io/warnings/venv\u001b[0m\u001b[33m\n",
            "\u001b[0mNote: you may need to restart the kernel to use updated packages.\n"
          ]
        }
      ],
      "source": [
        "%pip install sagemaker-studio-image-build"
      ]
    },
    {
      "cell_type": "markdown",
      "metadata": {
        "id": "EQ3w6mcurYfm"
      },
      "source": [
        "Update the library by running the following commands."
      ]
    },
    {
      "cell_type": "code",
      "execution_count": null,
      "metadata": {
        "tags": [],
        "vscode": {
          "languageId": "shellscript"
        },
        "id": "6Fp8I93YrYfn"
      },
      "outputs": [],
      "source": [
        "%%sh\n",
        "rm /usr/lib/x86_64-linux-gnu/libstdc++.so.6\n",
        "cp /opt/conda/lib/libstdc++.so.6 /usr/lib/x86_64-linux-gnu/libstdc++.so.6"
      ]
    },
    {
      "cell_type": "markdown",
      "metadata": {
        "id": "SreSunBmrYfn"
      },
      "source": [
        "Navigate to the directory that contains your Dockerfile and run the sm-docker build command. This command automatically logs build output and returns the **Image URI** of your Docker image. This takes approximately 2 minutes to complete."
      ]
    },
    {
      "cell_type": "code",
      "execution_count": null,
      "metadata": {
        "tags": [],
        "id": "30cnjpRerYfn",
        "outputId": "850ad4d5-cde7-4c9f-beb7-45964a1ec15d"
      },
      "outputs": [
        {
          "name": "stdout",
          "output_type": "stream",
          "text": [
            "sagemaker.config INFO - Not applying SDK defaults from location: /etc/xdg/sagemaker/config.yaml\n",
            "sagemaker.config INFO - Not applying SDK defaults from location: /root/.config/sagemaker/config.yaml\n",
            "Created ECR repository sagemaker-studio-d-qpqmw0qemocd\n",
            "...................[Container] 2024/09/08 12:29:16.607920 Running on CodeBuild On-demand\n",
            "\n",
            "[Container] 2024/09/08 12:29:16.607934 Waiting for agent ping\n",
            "[Container] 2024/09/08 12:29:19.820442 Waiting for DOWNLOAD_SOURCE\n",
            "[Container] 2024/09/08 12:29:20.107903 Phase is DOWNLOAD_SOURCE\n",
            "[Container] 2024/09/08 12:29:20.140613 CODEBUILD_SRC_DIR=/codebuild/output/src2434841079/src\n",
            "[Container] 2024/09/08 12:29:20.141212 YAML location is /codebuild/output/src2434841079/src/buildspec.yml\n",
            "[Container] 2024/09/08 12:29:20.144740 Setting HTTP client timeout to higher timeout for S3 source\n",
            "[Container] 2024/09/08 12:29:20.144959 Processing environment variables\n",
            "[Container] 2024/09/08 12:29:20.184277 No runtime version selected in buildspec.\n",
            "[Container] 2024/09/08 12:29:20.200406 Moving to directory /codebuild/output/src2434841079/src\n",
            "[Container] 2024/09/08 12:29:20.201953 Unable to initialize cache download: no paths specified to be cached\n",
            "[Container] 2024/09/08 12:29:20.203339 Configuring ssm agent with target id: codebuild:9a89bdc8-6458-4623-9d80-24134e79c821\n",
            "[Container] 2024/09/08 12:29:20.203638 Successfully updated ssm agent configuration\n",
            "[Container] 2024/09/08 12:29:20.203982 Registering with agent\n",
            "[Container] 2024/09/08 12:29:20.234003 Phases found in YAML: 3\n",
            "[Container] 2024/09/08 12:29:20.234031  PRE_BUILD: 9 commands\n",
            "[Container] 2024/09/08 12:29:20.234036  BUILD: 4 commands\n",
            "[Container] 2024/09/08 12:29:20.234039  POST_BUILD: 3 commands\n",
            "[Container] 2024/09/08 12:29:20.234511 Phase complete: DOWNLOAD_SOURCE State: SUCCEEDED\n",
            "[Container] 2024/09/08 12:29:20.234539 Phase context status code:  Message:\n",
            "[Container] 2024/09/08 12:29:20.292357 Entering phase INSTALL\n",
            "[Container] 2024/09/08 12:29:20.294367 Phase complete: INSTALL State: SUCCEEDED\n",
            "[Container] 2024/09/08 12:29:20.294381 Phase context status code:  Message:\n",
            "[Container] 2024/09/08 12:29:20.322997 Entering phase PRE_BUILD\n",
            "[Container] 2024/09/08 12:29:20.356046 Running command echo Logging in to Amazon ECR...\n",
            "Logging in to Amazon ECR...\n",
            "\n",
            "[Container] 2024/09/08 12:29:20.361071 Running command $(aws ecr get-login --no-include-email --region $AWS_DEFAULT_REGION)\n",
            "WARNING! Using --password via the CLI is insecure. Use --password-stdin.\n",
            "WARNING! Your password will be stored unencrypted in /root/.docker/config.json.\n",
            "Configure a credential helper to remove this warning. See\n",
            "https://docs.docker.com/engine/reference/commandline/login/#credentials-store\n",
            "\n",
            "Login Succeeded\n",
            "\n",
            "[Container] 2024/09/08 12:29:22.025221 Running command $(aws ecr get-login --no-include-email --region $AWS_DEFAULT_REGION --registry-ids 763104351884)\n",
            "WARNING! Using --password via the CLI is insecure. Use --password-stdin.\n",
            "WARNING! Your password will be stored unencrypted in /root/.docker/config.json.\n",
            "Configure a credential helper to remove this warning. See\n",
            "https://docs.docker.com/engine/reference/commandline/login/#credentials-store\n",
            "\n",
            "Login Succeeded\n",
            "\n",
            "[Container] 2024/09/08 12:29:22.644059 Running command $(aws ecr get-login --no-include-email --region $AWS_DEFAULT_REGION --registry-ids 217643126080)\n",
            "WARNING! Using --password via the CLI is insecure. Use --password-stdin.\n",
            "WARNING! Your password will be stored unencrypted in /root/.docker/config.json.\n",
            "Configure a credential helper to remove this warning. See\n",
            "https://docs.docker.com/engine/reference/commandline/login/#credentials-store\n",
            "\n",
            "Login Succeeded\n",
            "\n",
            "[Container] 2024/09/08 12:29:23.265498 Running command $(aws ecr get-login --no-include-email --region $AWS_DEFAULT_REGION --registry-ids 727897471807)\n",
            "WARNING! Using --password via the CLI is insecure. Use --password-stdin.\n",
            "WARNING! Your password will be stored unencrypted in /root/.docker/config.json.\n",
            "Configure a credential helper to remove this warning. See\n",
            "https://docs.docker.com/engine/reference/commandline/login/#credentials-store\n",
            "\n",
            "Login Succeeded\n",
            "\n",
            "[Container] 2024/09/08 12:29:23.882435 Running command $(aws ecr get-login --no-include-email --region $AWS_DEFAULT_REGION --registry-ids 626614931356)\n",
            "WARNING! Using --password via the CLI is insecure. Use --password-stdin.\n",
            "WARNING! Your password will be stored unencrypted in /root/.docker/config.json.\n",
            "Configure a credential helper to remove this warning. See\n",
            "https://docs.docker.com/engine/reference/commandline/login/#credentials-store\n",
            "\n",
            "Login Succeeded\n",
            "\n",
            "[Container] 2024/09/08 12:29:24.502875 Running command $(aws ecr get-login --no-include-email --region $AWS_DEFAULT_REGION --registry-ids 683313688378)\n",
            "WARNING! Using --password via the CLI is insecure. Use --password-stdin.\n",
            "WARNING! Your password will be stored unencrypted in /root/.docker/config.json.\n",
            "Configure a credential helper to remove this warning. See\n",
            "https://docs.docker.com/engine/reference/commandline/login/#credentials-store\n",
            "\n",
            "Login Succeeded\n",
            "\n",
            "[Container] 2024/09/08 12:29:25.115816 Running command $(aws ecr get-login --no-include-email --region $AWS_DEFAULT_REGION --registry-ids 520713654638)\n",
            "WARNING! Using --password via the CLI is insecure. Use --password-stdin.\n",
            "WARNING! Your password will be stored unencrypted in /root/.docker/config.json.\n",
            "Configure a credential helper to remove this warning. See\n",
            "https://docs.docker.com/engine/reference/commandline/login/#credentials-store\n",
            "\n",
            "Login Succeeded\n",
            "\n",
            "[Container] 2024/09/08 12:29:25.715886 Running command $(aws ecr get-login --no-include-email --region $AWS_DEFAULT_REGION --registry-ids 462105765813)\n",
            "WARNING! Using --password via the CLI is insecure. Use --password-stdin.\n",
            "WARNING! Your password will be stored unencrypted in /root/.docker/config.json.\n",
            "Configure a credential helper to remove this warning. See\n",
            "https://docs.docker.com/engine/reference/commandline/login/#credentials-store\n",
            "\n",
            "Login Succeeded\n",
            "\n",
            "[Container] 2024/09/08 12:29:26.318322 Phase complete: PRE_BUILD State: SUCCEEDED\n",
            "[Container] 2024/09/08 12:29:26.318340 Phase context status code:  Message:\n",
            "[Container] 2024/09/08 12:29:26.351786 Entering phase BUILD\n",
            "[Container] 2024/09/08 12:29:26.352802 Running command echo Build started on `date`\n",
            "Build started on Sun Sep 8 12:29:26 UTC 2024\n",
            "\n",
            "[Container] 2024/09/08 12:29:26.361168 Running command echo Building the Docker image...\n",
            "Building the Docker image...\n",
            "\n",
            "[Container] 2024/09/08 12:29:26.368160 Running command docker build -t $IMAGE_REPO_NAME:$IMAGE_TAG .\n",
            "Sending build context to Docker daemon  4.096kB\n",
            "Step 1/4 : FROM public.ecr.aws/docker/library/python:3.10-slim-bullseye\n",
            "3.10-slim-bullseye: Pulling from docker/library/python\n",
            "6533c3eba3f3: Pulling fs layer\n",
            "4c78776b0d0f: Pulling fs layer\n",
            "835d362d152c: Pulling fs layer\n",
            "47832cdcfe85: Pulling fs layer\n",
            "c9a64fd2c4cb: Pulling fs layer\n",
            "47832cdcfe85: Waiting\n",
            "c9a64fd2c4cb: Waiting\n",
            "4c78776b0d0f: Verifying Checksum\n",
            "4c78776b0d0f: Download complete\n",
            "47832cdcfe85: Verifying Checksum\n",
            "47832cdcfe85: Download complete\n",
            "c9a64fd2c4cb: Verifying Checksum\n",
            "c9a64fd2c4cb: Download complete\n",
            "835d362d152c: Verifying Checksum\n",
            "835d362d152c: Download complete\n",
            "6533c3eba3f3: Verifying Checksum\n",
            "6533c3eba3f3: Download complete\n",
            "6533c3eba3f3: Pull complete\n",
            "4c78776b0d0f: Pull complete\n",
            "835d362d152c: Pull complete\n",
            "47832cdcfe85: Pull complete\n",
            "c9a64fd2c4cb: Pull complete\n",
            "Digest: sha256:8e53874607bf1b7e97ad9fab4ee1bc3b237731e45b481e037dd2a30f603b0ac7\n",
            "Status: Downloaded newer image for public.ecr.aws/docker/library/python:3.10-slim-bullseye\n",
            " ---> 43bcca73fe15\n",
            "Step 2/4 : RUN pip3 install joblib threadpoolctl pandas numpy scikit-learn==1.4.2\n",
            " ---> Running in 5afb43ea495a\n",
            "Collecting joblib\n",
            "  Downloading joblib-1.4.2-py3-none-any.whl (301 kB)\n",
            "     ━━━━━━━━━━━━━━━━━━━━━━━━━━━━━━━━━━━━━━ 301.8/301.8 kB 12.5 MB/s eta 0:00:00\n",
            "Collecting threadpoolctl\n",
            "  Downloading threadpoolctl-3.5.0-py3-none-any.whl (18 kB)\n",
            "Collecting pandas\n",
            "  Downloading pandas-2.2.2-cp310-cp310-manylinux_2_17_x86_64.manylinux2014_x86_64.whl (13.0 MB)\n",
            "     ━━━━━━━━━━━━━━━━━━━━━━━━━━━━━━━━━━━━━━━━ 13.0/13.0 MB 94.2 MB/s eta 0:00:00\n",
            "Collecting numpy\n",
            "  Downloading numpy-2.1.1-cp310-cp310-manylinux_2_17_x86_64.manylinux2014_x86_64.whl (16.3 MB)\n",
            "     ━━━━━━━━━━━━━━━━━━━━━━━━━━━━━━━━━━━━━━━━ 16.3/16.3 MB 86.1 MB/s eta 0:00:00\n",
            "Collecting scikit-learn==1.4.2\n",
            "  Downloading scikit_learn-1.4.2-cp310-cp310-manylinux_2_17_x86_64.manylinux2014_x86_64.whl (12.1 MB)\n",
            "     ━━━━━━━━━━━━━━━━━━━━━━━━━━━━━━━━━━━━━━━━ 12.1/12.1 MB 39.9 MB/s eta 0:00:00\n",
            "Collecting scipy>=1.6.0\n",
            "  Downloading scipy-1.14.1-cp310-cp310-manylinux_2_17_x86_64.manylinux2014_x86_64.whl (41.2 MB)\n",
            "     ━━━━━━━━━━━━━━━━━━━━━━━━━━━━━━━━━━━━━━━━ 41.2/41.2 MB 15.6 MB/s eta 0:00:00\n",
            "Collecting pytz>=2020.1\n",
            "  Downloading pytz-2024.1-py2.py3-none-any.whl (505 kB)\n",
            "     ━━━━━━━━━━━━━━━━━━━━━━━━━━━━━━━━━━━━━━ 505.5/505.5 kB 67.1 MB/s eta 0:00:00\n",
            "Collecting python-dateutil>=2.8.2\n",
            "  Downloading python_dateutil-2.9.0.post0-py2.py3-none-any.whl (229 kB)\n",
            "     ━━━━━━━━━━━━━━━━━━━━━━━━━━━━━━━━━━━━━━ 229.9/229.9 kB 33.1 MB/s eta 0:00:00\n",
            "Collecting tzdata>=2022.7\n",
            "  Downloading tzdata-2024.1-py2.py3-none-any.whl (345 kB)\n",
            "     ━━━━━━━━━━━━━━━━━━━━━━━━━━━━━━━━━━━━━━ 345.4/345.4 kB 44.8 MB/s eta 0:00:00\n",
            "Collecting six>=1.5\n",
            "  Downloading six-1.16.0-py2.py3-none-any.whl (11 kB)\n",
            "Installing collected packages: pytz, tzdata, threadpoolctl, six, numpy, joblib, scipy, python-dateutil, scikit-learn, pandas\n",
            "Successfully installed joblib-1.4.2 numpy-2.1.1 pandas-2.2.2 python-dateutil-2.9.0.post0 pytz-2024.1 scikit-learn-1.4.2 scipy-1.14.1 six-1.16.0 threadpoolctl-3.5.0 tzdata-2024.1\n",
            "\u001b[91mWARNING: Running pip as the 'root' user can result in broken permissions and conflicting behaviour with the system package manager. It is recommended to use a virtual environment instead: https://pip.pypa.io/warnings/venv\n",
            "\u001b[0m\u001b[91m\n",
            "[notice] A new release of pip is available: 23.0.1 -> 24.2\n",
            "[notice] To update, run: pip install --upgrade pip\n",
            "\u001b[0mRemoving intermediate container 5afb43ea495a\n",
            " ---> a7afaedafb35\n",
            "Step 3/4 : ENV PYTHONUNBUFFERED=TRUE\n",
            " ---> Running in 46ffd8f06cdd\n",
            "Removing intermediate container 46ffd8f06cdd\n",
            " ---> 59b71512d080\n",
            "Step 4/4 : ENTRYPOINT [\"python3\"]\n",
            " ---> Running in efbd43386e69\n",
            "Removing intermediate container efbd43386e69\n",
            " ---> b09266e236c8\n",
            "Successfully built b09266e236c8\n",
            "Successfully tagged sagemaker-studio-d-qpqmw0qemocd:SageMakerStudioUser\n",
            "\n",
            "[Container] 2024/09/08 12:29:55.988844 Running command docker tag $IMAGE_REPO_NAME:$IMAGE_TAG $AWS_ACCOUNT_ID.dkr.ecr.$AWS_DEFAULT_REGION.amazonaws.com/$IMAGE_REPO_NAME:$IMAGE_TAG\n",
            "\n",
            "[Container] 2024/09/08 12:29:56.014862 Phase complete: BUILD State: SUCCEEDED\n",
            "[Container] 2024/09/08 12:29:56.014879 Phase context status code:  Message:\n",
            "[Container] 2024/09/08 12:29:56.049317 Entering phase POST_BUILD\n",
            "[Container] 2024/09/08 12:29:56.050227 Running command echo Build completed on `date`\n",
            "Build completed on Sun Sep 8 12:29:56 UTC 2024\n",
            "\n",
            "[Container] 2024/09/08 12:29:56.057903 Running command echo Pushing the Docker image...\n",
            "Pushing the Docker image...\n",
            "\n",
            "[Container] 2024/09/08 12:29:56.063284 Running command docker push $AWS_ACCOUNT_ID.dkr.ecr.$AWS_DEFAULT_REGION.amazonaws.com/$IMAGE_REPO_NAME:$IMAGE_TAG\n",
            "The push refers to repository [593048189292.dkr.ecr.us-west-2.amazonaws.com/sagemaker-studio-d-qpqmw0qemocd]\n",
            "c9d27fd18943: Preparing\n",
            "a877716742c6: Preparing\n",
            "3645aff381b2: Preparing\n",
            "d0493f7353d7: Preparing\n",
            "d467d0a2d647: Preparing\n",
            "6d190562115f: Preparing\n",
            "6d190562115f: Waiting\n",
            "3645aff381b2: Pushed\n",
            "d467d0a2d647: Pushed\n",
            "a877716742c6: Pushed\n",
            "d0493f7353d7: Pushed\n",
            "6d190562115f: Pushed\n",
            "\n",
            "c9d27fd18943: Pushed\n",
            "SageMakerStudioUser: digest: sha256:4c6e43303ab56e1084ed4578f7010cadb80591d0f28c44f3170702e9b3782e5b size: 1583\n",
            "\n",
            "[Container] 2024/09/08 12:30:15.794896 Phase complete: POST_BUILD State: SUCCEEDED\n",
            "[Container] 2024/09/08 12:30:15.794914 Phase context status code:  Message:\n",
            "[Container] 2024/09/08 12:30:15.840143 Set report auto-discover timeout to 5 seconds\n",
            "[Container] 2024/09/08 12:30:15.840255 Expanding base directory path:  .\n",
            "[Container] 2024/09/08 12:30:15.841834 Assembling file list\n",
            "[Container] 2024/09/08 12:30:15.841846 Expanding .\n",
            "[Container] 2024/09/08 12:30:15.843501 Expanding file paths for base directory .\n",
            "[Container] 2024/09/08 12:30:15.843514 Assembling file list\n",
            "[Container] 2024/09/08 12:30:15.843518 Expanding **/*\n",
            "[Container] 2024/09/08 12:30:15.845153 No matching auto-discover report paths found\n",
            "[Container] 2024/09/08 12:30:15.845177 Report auto-discover file discovery took 0.005034 seconds\n",
            "[Container] 2024/09/08 12:30:15.845270 Phase complete: UPLOAD_ARTIFACTS State: SUCCEEDED\n",
            "[Container] 2024/09/08 12:30:15.845295 Phase context status code:  Message:\n",
            "Image URI: 593048189292.dkr.ecr.us-west-2.amazonaws.com/sagemaker-studio-d-qpqmw0qemocd:SageMakerStudioUser\n"
          ]
        }
      ],
      "source": [
        "%%sh\n",
        "\n",
        "cd docker\n",
        "\n",
        "sm-docker build ."
      ]
    },
    {
      "cell_type": "markdown",
      "metadata": {
        "id": "csRo2uGprYfn"
      },
      "source": [
        "Next, copy the **Image URI** and paste it into a text editor of your choice.\n",
        "You use this **Image URI** to create a **ScriptProcessor** class."
      ]
    },
    {
      "cell_type": "markdown",
      "metadata": {
        "id": "EJGjMDMkrYfo"
      },
      "source": [
        "### Task 4.5: Run the SageMaker processing job\n",
        "\n",
        "In this task, you use the same preprocessed dataset from the previous notebook."
      ]
    },
    {
      "cell_type": "code",
      "execution_count": null,
      "metadata": {
        "tags": [],
        "id": "V5O6oAR0rYfo",
        "outputId": "ecbae95d-8bb0-402e-d4cb-ddbf3ee4d3fe"
      },
      "outputs": [
        {
          "data": {
            "text/html": [
              "<div>\n",
              "<style scoped>\n",
              "    .dataframe tbody tr th:only-of-type {\n",
              "        vertical-align: middle;\n",
              "    }\n",
              "\n",
              "    .dataframe tbody tr th {\n",
              "        vertical-align: top;\n",
              "    }\n",
              "\n",
              "    .dataframe thead th {\n",
              "        text-align: right;\n",
              "    }\n",
              "</style>\n",
              "<table border=\"1\" class=\"dataframe\">\n",
              "  <thead>\n",
              "    <tr style=\"text-align: right;\">\n",
              "      <th></th>\n",
              "      <th>0</th>\n",
              "      <th>1</th>\n",
              "      <th>2</th>\n",
              "      <th>3</th>\n",
              "      <th>4</th>\n",
              "      <th>5</th>\n",
              "      <th>6</th>\n",
              "      <th>7</th>\n",
              "      <th>8</th>\n",
              "      <th>9</th>\n",
              "      <th>10</th>\n",
              "      <th>11</th>\n",
              "      <th>12</th>\n",
              "      <th>13</th>\n",
              "      <th>14</th>\n",
              "    </tr>\n",
              "  </thead>\n",
              "  <tbody>\n",
              "    <tr>\n",
              "      <th>610</th>\n",
              "      <td>33</td>\n",
              "      <td>Local-gov</td>\n",
              "      <td>217304</td>\n",
              "      <td>Bachelors</td>\n",
              "      <td>13</td>\n",
              "      <td>Never-married</td>\n",
              "      <td>Adm-clerical</td>\n",
              "      <td>Not-in-family</td>\n",
              "      <td>Black</td>\n",
              "      <td>Male</td>\n",
              "      <td>0</td>\n",
              "      <td>0</td>\n",
              "      <td>40</td>\n",
              "      <td>United-States</td>\n",
              "      <td>&lt;=50K</td>\n",
              "    </tr>\n",
              "    <tr>\n",
              "      <th>258</th>\n",
              "      <td>39</td>\n",
              "      <td>Private</td>\n",
              "      <td>281768</td>\n",
              "      <td>HS-grad</td>\n",
              "      <td>9</td>\n",
              "      <td>Never-married</td>\n",
              "      <td>Other-service</td>\n",
              "      <td>Not-in-family</td>\n",
              "      <td>Black</td>\n",
              "      <td>Female</td>\n",
              "      <td>0</td>\n",
              "      <td>0</td>\n",
              "      <td>40</td>\n",
              "      <td>United-States</td>\n",
              "      <td>&lt;=50K</td>\n",
              "    </tr>\n",
              "    <tr>\n",
              "      <th>707</th>\n",
              "      <td>31</td>\n",
              "      <td>Private</td>\n",
              "      <td>83912</td>\n",
              "      <td>Bachelors</td>\n",
              "      <td>13</td>\n",
              "      <td>Married-civ-spouse</td>\n",
              "      <td>Adm-clerical</td>\n",
              "      <td>Wife</td>\n",
              "      <td>White</td>\n",
              "      <td>Female</td>\n",
              "      <td>0</td>\n",
              "      <td>0</td>\n",
              "      <td>25</td>\n",
              "      <td>Mexico</td>\n",
              "      <td>&lt;=50K</td>\n",
              "    </tr>\n",
              "    <tr>\n",
              "      <th>28</th>\n",
              "      <td>23</td>\n",
              "      <td>Private</td>\n",
              "      <td>134446</td>\n",
              "      <td>HS-grad</td>\n",
              "      <td>9</td>\n",
              "      <td>Separated</td>\n",
              "      <td>Machine-op-inspct</td>\n",
              "      <td>Unmarried</td>\n",
              "      <td>Black</td>\n",
              "      <td>Male</td>\n",
              "      <td>0</td>\n",
              "      <td>0</td>\n",
              "      <td>54</td>\n",
              "      <td>United-States</td>\n",
              "      <td>&lt;=50K</td>\n",
              "    </tr>\n",
              "    <tr>\n",
              "      <th>539</th>\n",
              "      <td>52</td>\n",
              "      <td>Private</td>\n",
              "      <td>165001</td>\n",
              "      <td>HS-grad</td>\n",
              "      <td>9</td>\n",
              "      <td>Married-civ-spouse</td>\n",
              "      <td>Transport-moving</td>\n",
              "      <td>Husband</td>\n",
              "      <td>White</td>\n",
              "      <td>Male</td>\n",
              "      <td>0</td>\n",
              "      <td>0</td>\n",
              "      <td>60</td>\n",
              "      <td>United-States</td>\n",
              "      <td>&gt;50K</td>\n",
              "    </tr>\n",
              "  </tbody>\n",
              "</table>\n",
              "</div>"
            ],
            "text/plain": [
              "     0           1       2           3   4                    5   \\\n",
              "610  33   Local-gov  217304   Bachelors  13        Never-married   \n",
              "258  39     Private  281768     HS-grad   9        Never-married   \n",
              "707  31     Private   83912   Bachelors  13   Married-civ-spouse   \n",
              "28   23     Private  134446     HS-grad   9            Separated   \n",
              "539  52     Private  165001     HS-grad   9   Married-civ-spouse   \n",
              "\n",
              "                     6               7       8        9  10 11  12  \\\n",
              "610        Adm-clerical   Not-in-family   Black     Male  0  0  40   \n",
              "258       Other-service   Not-in-family   Black   Female  0  0  40   \n",
              "707        Adm-clerical            Wife   White   Female  0  0  25   \n",
              "28    Machine-op-inspct       Unmarried   Black     Male  0  0  54   \n",
              "539    Transport-moving         Husband   White     Male  0  0  60   \n",
              "\n",
              "                 13      14  \n",
              "610   United-States   <=50K  \n",
              "258   United-States   <=50K  \n",
              "707          Mexico   <=50K  \n",
              "28    United-States   <=50K  \n",
              "539   United-States    >50K  "
            ]
          },
          "execution_count": 11,
          "metadata": {},
          "output_type": "execute_result"
        }
      ],
      "source": [
        "#import-data\n",
        "shape=pd.read_csv(\"data/adult_data.csv\", header=None)\n",
        "shape.sample(5)"
      ]
    },
    {
      "cell_type": "markdown",
      "metadata": {
        "id": "hlBjSVVVrYfo"
      },
      "source": [
        "\n",
        "\n",
        "You then use the SageMaker ScriptProcessor class to define and run a processing script as a processing job. Refer to [SageMaker ScriptProcessor](https://sagemaker.readthedocs.io/en/stable/api/training/processing.html#sagemaker.processing.ScriptProcessor) for more information about this class.\n",
        "\n",
        "For creating ScriptProcessor class, you configure the following parameters:\n",
        "- **base_job_name**: Prefix for the processing job name\n",
        "- **command**: Command to run, in addition to any command-line flags\n",
        "- **image_uri**: URI of the Docker image to use for the processing jobs\n",
        "- **role**: SageMaker execution role\n",
        "- **instance_count**: Number of instances to run the processing job\n",
        "- **instance_type**: Type of Amazon Elastic Compute Cloud (Amazon EC2) instance used for the processing job\n",
        "\n",
        "In the following code, replace **REPLACE_IMAGE_URI** with the URI from your text editor."
      ]
    },
    {
      "cell_type": "code",
      "execution_count": null,
      "metadata": {
        "tags": [],
        "id": "_q1UeD65rYfp"
      },
      "outputs": [],
      "source": [
        "#sagemaker-script-processor\n",
        "from sagemaker.processing import ScriptProcessor\n",
        "\n",
        "# create a ScriptProcessor\n",
        "script_processor = ScriptProcessor(\n",
        "    base_job_name=\"own-processing-container\",\n",
        "    command=[\"python3\"],\n",
        "    image_uri=\"REPLACE_IMAGE_URI\",\n",
        "    role=role,\n",
        "    instance_count=1,\n",
        "    instance_type=\"ml.m5.xlarge\",\n",
        ")"
      ]
    },
    {
      "cell_type": "markdown",
      "metadata": {
        "id": "uWzBffpPrYfp"
      },
      "source": [
        "\n",
        "Next, you use the ScriptProcessor.run() method to run the **sklearn_preprocessing.py** script as a processing job. This is the same script that you used in Task 3, but you are now running it on a custom container built from a base image. Refer to [ScriptProcessor.run()](https://sagemaker.readthedocs.io/en/stable/api/training/processing.html#sagemaker.processing.ScriptProcessor.run) for more information about this method.\n",
        "\n",
        "For running the processing job, you configure the following parameters:\n",
        "- **code**: Path of the preprocessing script\n",
        "- **inputs**: Path of input data for the preprocessing script (Amazon S3 input location)\n",
        "- **outputs**: Path of output for the preprocessing script (Amazon S3 output location)\n",
        "- **arguments**: Command-line arguments to the preprocessing script (such as train test split ratio)\n",
        "\n",
        "The processing job takes approximately 4–5 minutes to complete."
      ]
    },
    {
      "cell_type": "code",
      "execution_count": null,
      "metadata": {
        "tags": [],
        "id": "Ug_DKA7drYfq",
        "outputId": "b5cb6f2b-8621-4718-85b0-45eafc646af7"
      },
      "outputs": [
        {
          "name": "stderr",
          "output_type": "stream",
          "text": [
            "Creating processing-job with name own-processing-container-2024-09-08-12-37-50-133\n",
            "INFO:sagemaker:Creating processing-job with name own-processing-container-2024-09-08-12-37-50-133\n",
            "Please check the troubleshooting guide for common errors: https://docs.aws.amazon.com/sagemaker/latest/dg/sagemaker-python-sdk-troubleshooting.html#sagemaker-python-sdk-troubleshooting-create-processing-job\n",
            "ERROR:sagemaker:Please check the troubleshooting guide for common errors: https://docs.aws.amazon.com/sagemaker/latest/dg/sagemaker-python-sdk-troubleshooting.html#sagemaker-python-sdk-troubleshooting-create-processing-job\n"
          ]
        },
        {
          "ename": "ClientError",
          "evalue": "An error occurred (ValidationException) when calling the CreateProcessingJob operation: Invalid image URI public.ecr.aws/docker/library/python:3.10-slim-bullseye. Please provide a valid Amazon Elastic Container Registry path of the Docker image to run.",
          "output_type": "error",
          "traceback": [
            "\u001b[0;31m---------------------------------------------------------------------------\u001b[0m",
            "\u001b[0;31mClientError\u001b[0m                               Traceback (most recent call last)",
            "Cell \u001b[0;32mIn[15], line 10\u001b[0m\n\u001b[1;32m      7\u001b[0m output_preprocessed_data_prefix \u001b[38;5;241m=\u001b[39m \u001b[38;5;124m\"\u001b[39m\u001b[38;5;124mdata/output\u001b[39m\u001b[38;5;124m\"\u001b[39m\n\u001b[1;32m      9\u001b[0m \u001b[38;5;66;03m# Run the processing job\u001b[39;00m\n\u001b[0;32m---> 10\u001b[0m \u001b[43mscript_processor\u001b[49m\u001b[38;5;241;43m.\u001b[39;49m\u001b[43mrun\u001b[49m\u001b[43m(\u001b[49m\n\u001b[1;32m     11\u001b[0m \u001b[43m    \u001b[49m\u001b[43mcode\u001b[49m\u001b[38;5;241;43m=\u001b[39;49m\u001b[38;5;124;43m\"\u001b[39;49m\u001b[38;5;124;43msklearn_preprocessing.py\u001b[39;49m\u001b[38;5;124;43m\"\u001b[39;49m\u001b[43m,\u001b[49m\n\u001b[1;32m     12\u001b[0m \u001b[43m    \u001b[49m\u001b[43minputs\u001b[49m\u001b[38;5;241;43m=\u001b[39;49m\u001b[43m[\u001b[49m\u001b[43mProcessingInput\u001b[49m\u001b[43m(\u001b[49m\u001b[43msource\u001b[49m\u001b[38;5;241;43m=\u001b[39;49m\u001b[38;5;124;43m\"\u001b[39;49m\u001b[38;5;124;43ms3://\u001b[39;49m\u001b[38;5;124;43m\"\u001b[39;49m\u001b[43m \u001b[49m\u001b[38;5;241;43m+\u001b[39;49m\u001b[43m \u001b[49m\u001b[43mos\u001b[49m\u001b[38;5;241;43m.\u001b[39;49m\u001b[43mpath\u001b[49m\u001b[38;5;241;43m.\u001b[39;49m\u001b[43mjoin\u001b[49m\u001b[43m(\u001b[49m\u001b[43mbucket\u001b[49m\u001b[43m,\u001b[49m\u001b[43m \u001b[49m\u001b[43minput_raw_data_prefix\u001b[49m\u001b[43m,\u001b[49m\u001b[43m \u001b[49m\u001b[38;5;124;43m\"\u001b[39;49m\u001b[38;5;124;43madult_data.csv\u001b[39;49m\u001b[38;5;124;43m\"\u001b[39;49m\u001b[43m)\u001b[49m\u001b[43m,\u001b[49m\n\u001b[1;32m     13\u001b[0m \u001b[43m                            \u001b[49m\u001b[43mdestination\u001b[49m\u001b[38;5;241;43m=\u001b[39;49m\u001b[38;5;124;43m\"\u001b[39;49m\u001b[38;5;124;43m/opt/ml/processing/input\u001b[39;49m\u001b[38;5;124;43m\"\u001b[39;49m\u001b[43m)\u001b[49m\u001b[43m]\u001b[49m\u001b[43m,\u001b[49m\n\u001b[1;32m     14\u001b[0m \u001b[43m    \u001b[49m\u001b[43moutputs\u001b[49m\u001b[38;5;241;43m=\u001b[39;49m\u001b[43m[\u001b[49m\n\u001b[1;32m     15\u001b[0m \u001b[43m        \u001b[49m\u001b[43mProcessingOutput\u001b[49m\u001b[43m(\u001b[49m\u001b[43moutput_name\u001b[49m\u001b[38;5;241;43m=\u001b[39;49m\u001b[38;5;124;43m\"\u001b[39;49m\u001b[38;5;124;43mtrain_data\u001b[39;49m\u001b[38;5;124;43m\"\u001b[39;49m\u001b[43m,\u001b[49m\u001b[43m \u001b[49m\n\u001b[1;32m     16\u001b[0m \u001b[43m                         \u001b[49m\u001b[43msource\u001b[49m\u001b[38;5;241;43m=\u001b[39;49m\u001b[38;5;124;43m\"\u001b[39;49m\u001b[38;5;124;43m/opt/ml/processing/train\u001b[39;49m\u001b[38;5;124;43m\"\u001b[39;49m\u001b[43m,\u001b[49m\n\u001b[1;32m     17\u001b[0m \u001b[43m                         \u001b[49m\u001b[43mdestination\u001b[49m\u001b[38;5;241;43m=\u001b[39;49m\u001b[38;5;124;43m\"\u001b[39;49m\u001b[38;5;124;43ms3://\u001b[39;49m\u001b[38;5;124;43m\"\u001b[39;49m\u001b[43m \u001b[49m\u001b[38;5;241;43m+\u001b[39;49m\u001b[43m \u001b[49m\u001b[43mos\u001b[49m\u001b[38;5;241;43m.\u001b[39;49m\u001b[43mpath\u001b[49m\u001b[38;5;241;43m.\u001b[39;49m\u001b[43mjoin\u001b[49m\u001b[43m(\u001b[49m\u001b[43mbucket\u001b[49m\u001b[43m,\u001b[49m\u001b[43m \u001b[49m\u001b[43moutput_preprocessed_data_prefix\u001b[49m\u001b[43m,\u001b[49m\u001b[43m \u001b[49m\u001b[38;5;124;43m\"\u001b[39;49m\u001b[38;5;124;43mtrain\u001b[39;49m\u001b[38;5;124;43m\"\u001b[39;49m\u001b[43m)\u001b[49m\u001b[43m)\u001b[49m\u001b[43m,\u001b[49m\n\u001b[1;32m     18\u001b[0m \u001b[43m        \u001b[49m\u001b[43mProcessingOutput\u001b[49m\u001b[43m(\u001b[49m\u001b[43moutput_name\u001b[49m\u001b[38;5;241;43m=\u001b[39;49m\u001b[38;5;124;43m\"\u001b[39;49m\u001b[38;5;124;43mtest_data\u001b[39;49m\u001b[38;5;124;43m\"\u001b[39;49m\u001b[43m,\u001b[49m\u001b[43m \u001b[49m\n\u001b[1;32m     19\u001b[0m \u001b[43m                         \u001b[49m\u001b[43msource\u001b[49m\u001b[38;5;241;43m=\u001b[39;49m\u001b[38;5;124;43m\"\u001b[39;49m\u001b[38;5;124;43m/opt/ml/processing/test\u001b[39;49m\u001b[38;5;124;43m\"\u001b[39;49m\u001b[43m,\u001b[49m\n\u001b[1;32m     20\u001b[0m \u001b[43m                         \u001b[49m\u001b[43mdestination\u001b[49m\u001b[38;5;241;43m=\u001b[39;49m\u001b[38;5;124;43m\"\u001b[39;49m\u001b[38;5;124;43ms3://\u001b[39;49m\u001b[38;5;124;43m\"\u001b[39;49m\u001b[43m \u001b[49m\u001b[38;5;241;43m+\u001b[39;49m\u001b[43m \u001b[49m\u001b[43mos\u001b[49m\u001b[38;5;241;43m.\u001b[39;49m\u001b[43mpath\u001b[49m\u001b[38;5;241;43m.\u001b[39;49m\u001b[43mjoin\u001b[49m\u001b[43m(\u001b[49m\u001b[43mbucket\u001b[49m\u001b[43m,\u001b[49m\u001b[43m \u001b[49m\u001b[43moutput_preprocessed_data_prefix\u001b[49m\u001b[43m,\u001b[49m\u001b[43m \u001b[49m\u001b[38;5;124;43m\"\u001b[39;49m\u001b[38;5;124;43mtest\u001b[39;49m\u001b[38;5;124;43m\"\u001b[39;49m\u001b[43m)\u001b[49m\u001b[43m)\u001b[49m\u001b[43m,\u001b[49m\n\u001b[1;32m     21\u001b[0m \u001b[43m    \u001b[49m\u001b[43m]\u001b[49m\u001b[43m,\u001b[49m\n\u001b[1;32m     22\u001b[0m \u001b[43m    \u001b[49m\u001b[43marguments\u001b[49m\u001b[38;5;241;43m=\u001b[39;49m\u001b[43m[\u001b[49m\u001b[38;5;124;43m\"\u001b[39;49m\u001b[38;5;124;43m--train-test-split-ratio\u001b[39;49m\u001b[38;5;124;43m\"\u001b[39;49m\u001b[43m,\u001b[49m\u001b[43m \u001b[49m\u001b[38;5;124;43m\"\u001b[39;49m\u001b[38;5;124;43m0.2\u001b[39;49m\u001b[38;5;124;43m\"\u001b[39;49m\u001b[43m]\u001b[49m\u001b[43m,\u001b[49m\n\u001b[1;32m     23\u001b[0m \u001b[43m    \u001b[49m\u001b[43mlogs\u001b[49m\u001b[38;5;241;43m=\u001b[39;49m\u001b[38;5;28;43;01mFalse\u001b[39;49;00m\u001b[43m,\u001b[49m\n\u001b[1;32m     24\u001b[0m \u001b[43m    \u001b[49m\u001b[43mwait\u001b[49m\u001b[38;5;241;43m=\u001b[39;49m\u001b[38;5;28;43;01mFalse\u001b[39;49;00m\u001b[43m,\u001b[49m\n\u001b[1;32m     25\u001b[0m \u001b[43m)\u001b[49m\n\u001b[1;32m     26\u001b[0m script_processor_job_description \u001b[38;5;241m=\u001b[39m script_processor\u001b[38;5;241m.\u001b[39mjobs[\u001b[38;5;241m-\u001b[39m\u001b[38;5;241m1\u001b[39m]\u001b[38;5;241m.\u001b[39mdescribe()\n\u001b[1;32m     27\u001b[0m \u001b[38;5;28mprint\u001b[39m(script_processor_job_description)\n",
            "File \u001b[0;32m/opt/conda/lib/python3.10/site-packages/sagemaker/workflow/pipeline_context.py:346\u001b[0m, in \u001b[0;36mrunnable_by_pipeline.<locals>.wrapper\u001b[0;34m(*args, **kwargs)\u001b[0m\n\u001b[1;32m    342\u001b[0m         \u001b[38;5;28;01mreturn\u001b[39;00m context\n\u001b[1;32m    344\u001b[0m     \u001b[38;5;28;01mreturn\u001b[39;00m _StepArguments(retrieve_caller_name(self_instance), run_func, \u001b[38;5;241m*\u001b[39margs, \u001b[38;5;241m*\u001b[39m\u001b[38;5;241m*\u001b[39mkwargs)\n\u001b[0;32m--> 346\u001b[0m \u001b[38;5;28;01mreturn\u001b[39;00m \u001b[43mrun_func\u001b[49m\u001b[43m(\u001b[49m\u001b[38;5;241;43m*\u001b[39;49m\u001b[43margs\u001b[49m\u001b[43m,\u001b[49m\u001b[43m \u001b[49m\u001b[38;5;241;43m*\u001b[39;49m\u001b[38;5;241;43m*\u001b[39;49m\u001b[43mkwargs\u001b[49m\u001b[43m)\u001b[49m\n",
            "File \u001b[0;32m/opt/conda/lib/python3.10/site-packages/sagemaker/processing.py:681\u001b[0m, in \u001b[0;36mScriptProcessor.run\u001b[0;34m(self, code, inputs, outputs, arguments, wait, logs, job_name, experiment_config, kms_key)\u001b[0m\n\u001b[1;32m    671\u001b[0m normalized_inputs, normalized_outputs \u001b[38;5;241m=\u001b[39m \u001b[38;5;28mself\u001b[39m\u001b[38;5;241m.\u001b[39m_normalize_args(\n\u001b[1;32m    672\u001b[0m     job_name\u001b[38;5;241m=\u001b[39mjob_name,\n\u001b[1;32m    673\u001b[0m     arguments\u001b[38;5;241m=\u001b[39marguments,\n\u001b[0;32m   (...)\u001b[0m\n\u001b[1;32m    677\u001b[0m     kms_key\u001b[38;5;241m=\u001b[39mkms_key,\n\u001b[1;32m    678\u001b[0m )\n\u001b[1;32m    680\u001b[0m experiment_config \u001b[38;5;241m=\u001b[39m check_and_get_run_experiment_config(experiment_config)\n\u001b[0;32m--> 681\u001b[0m \u001b[38;5;28mself\u001b[39m\u001b[38;5;241m.\u001b[39mlatest_job \u001b[38;5;241m=\u001b[39m \u001b[43mProcessingJob\u001b[49m\u001b[38;5;241;43m.\u001b[39;49m\u001b[43mstart_new\u001b[49m\u001b[43m(\u001b[49m\n\u001b[1;32m    682\u001b[0m \u001b[43m    \u001b[49m\u001b[43mprocessor\u001b[49m\u001b[38;5;241;43m=\u001b[39;49m\u001b[38;5;28;43mself\u001b[39;49m\u001b[43m,\u001b[49m\n\u001b[1;32m    683\u001b[0m \u001b[43m    \u001b[49m\u001b[43minputs\u001b[49m\u001b[38;5;241;43m=\u001b[39;49m\u001b[43mnormalized_inputs\u001b[49m\u001b[43m,\u001b[49m\n\u001b[1;32m    684\u001b[0m \u001b[43m    \u001b[49m\u001b[43moutputs\u001b[49m\u001b[38;5;241;43m=\u001b[39;49m\u001b[43mnormalized_outputs\u001b[49m\u001b[43m,\u001b[49m\n\u001b[1;32m    685\u001b[0m \u001b[43m    \u001b[49m\u001b[43mexperiment_config\u001b[49m\u001b[38;5;241;43m=\u001b[39;49m\u001b[43mexperiment_config\u001b[49m\u001b[43m,\u001b[49m\n\u001b[1;32m    686\u001b[0m \u001b[43m\u001b[49m\u001b[43m)\u001b[49m\n\u001b[1;32m    687\u001b[0m \u001b[38;5;28mself\u001b[39m\u001b[38;5;241m.\u001b[39mjobs\u001b[38;5;241m.\u001b[39mappend(\u001b[38;5;28mself\u001b[39m\u001b[38;5;241m.\u001b[39mlatest_job)\n\u001b[1;32m    688\u001b[0m \u001b[38;5;28;01mif\u001b[39;00m wait:\n",
            "File \u001b[0;32m/opt/conda/lib/python3.10/site-packages/sagemaker/processing.py:917\u001b[0m, in \u001b[0;36mProcessingJob.start_new\u001b[0;34m(cls, processor, inputs, outputs, experiment_config)\u001b[0m\n\u001b[1;32m    914\u001b[0m logger\u001b[38;5;241m.\u001b[39mdebug(\u001b[38;5;124m\"\u001b[39m\u001b[38;5;124mOutputs: \u001b[39m\u001b[38;5;132;01m%s\u001b[39;00m\u001b[38;5;124m\"\u001b[39m, process_args[\u001b[38;5;124m\"\u001b[39m\u001b[38;5;124moutput_config\u001b[39m\u001b[38;5;124m\"\u001b[39m][\u001b[38;5;124m\"\u001b[39m\u001b[38;5;124mOutputs\u001b[39m\u001b[38;5;124m\"\u001b[39m])\n\u001b[1;32m    916\u001b[0m \u001b[38;5;66;03m# Call sagemaker_session.process using the arguments dictionary.\u001b[39;00m\n\u001b[0;32m--> 917\u001b[0m \u001b[43mprocessor\u001b[49m\u001b[38;5;241;43m.\u001b[39;49m\u001b[43msagemaker_session\u001b[49m\u001b[38;5;241;43m.\u001b[39;49m\u001b[43mprocess\u001b[49m\u001b[43m(\u001b[49m\u001b[38;5;241;43m*\u001b[39;49m\u001b[38;5;241;43m*\u001b[39;49m\u001b[43mprocess_args\u001b[49m\u001b[43m)\u001b[49m\n\u001b[1;32m    919\u001b[0m \u001b[38;5;28;01mreturn\u001b[39;00m \u001b[38;5;28mcls\u001b[39m(\n\u001b[1;32m    920\u001b[0m     processor\u001b[38;5;241m.\u001b[39msagemaker_session,\n\u001b[1;32m    921\u001b[0m     processor\u001b[38;5;241m.\u001b[39m_current_job_name,\n\u001b[0;32m   (...)\u001b[0m\n\u001b[1;32m    924\u001b[0m     processor\u001b[38;5;241m.\u001b[39moutput_kms_key,\n\u001b[1;32m    925\u001b[0m )\n",
            "File \u001b[0;32m/opt/conda/lib/python3.10/site-packages/sagemaker/session.py:1589\u001b[0m, in \u001b[0;36mSession.process\u001b[0;34m(self, inputs, output_config, job_name, resources, stopping_condition, app_specification, environment, network_config, role_arn, tags, experiment_config)\u001b[0m\n\u001b[1;32m   1584\u001b[0m         logger\u001b[38;5;241m.\u001b[39merror(\n\u001b[1;32m   1585\u001b[0m             \u001b[38;5;124m\"\u001b[39m\u001b[38;5;124mPlease check the troubleshooting guide for common errors: \u001b[39m\u001b[38;5;132;01m%s\u001b[39;00m\u001b[38;5;124m\"\u001b[39m, troubleshooting\n\u001b[1;32m   1586\u001b[0m         )\n\u001b[1;32m   1587\u001b[0m         \u001b[38;5;28;01mraise\u001b[39;00m e\n\u001b[0;32m-> 1589\u001b[0m \u001b[38;5;28;43mself\u001b[39;49m\u001b[38;5;241;43m.\u001b[39;49m\u001b[43m_intercept_create_request\u001b[49m\u001b[43m(\u001b[49m\u001b[43mprocess_request\u001b[49m\u001b[43m,\u001b[49m\u001b[43m \u001b[49m\u001b[43msubmit\u001b[49m\u001b[43m,\u001b[49m\u001b[43m \u001b[49m\u001b[38;5;28;43mself\u001b[39;49m\u001b[38;5;241;43m.\u001b[39;49m\u001b[43mprocess\u001b[49m\u001b[38;5;241;43m.\u001b[39;49m\u001b[38;5;18;43m__name__\u001b[39;49m\u001b[43m)\u001b[49m\n",
            "File \u001b[0;32m/opt/conda/lib/python3.10/site-packages/sagemaker/session.py:6606\u001b[0m, in \u001b[0;36mSession._intercept_create_request\u001b[0;34m(self, request, create, func_name)\u001b[0m\n\u001b[1;32m   6589\u001b[0m \u001b[38;5;28;01mdef\u001b[39;00m \u001b[38;5;21m_intercept_create_request\u001b[39m(\n\u001b[1;32m   6590\u001b[0m     \u001b[38;5;28mself\u001b[39m,\n\u001b[1;32m   6591\u001b[0m     request: typing\u001b[38;5;241m.\u001b[39mDict,\n\u001b[0;32m   (...)\u001b[0m\n\u001b[1;32m   6594\u001b[0m     \u001b[38;5;66;03m# pylint: disable=unused-argument\u001b[39;00m\n\u001b[1;32m   6595\u001b[0m ):\n\u001b[1;32m   6596\u001b[0m \u001b[38;5;250m    \u001b[39m\u001b[38;5;124;03m\"\"\"This function intercepts the create job request.\u001b[39;00m\n\u001b[1;32m   6597\u001b[0m \n\u001b[1;32m   6598\u001b[0m \u001b[38;5;124;03m    PipelineSession inherits this Session class and will override\u001b[39;00m\n\u001b[0;32m   (...)\u001b[0m\n\u001b[1;32m   6604\u001b[0m \u001b[38;5;124;03m        func_name (str): the name of the function needed intercepting\u001b[39;00m\n\u001b[1;32m   6605\u001b[0m \u001b[38;5;124;03m    \"\"\"\u001b[39;00m\n\u001b[0;32m-> 6606\u001b[0m     \u001b[38;5;28;01mreturn\u001b[39;00m \u001b[43mcreate\u001b[49m\u001b[43m(\u001b[49m\u001b[43mrequest\u001b[49m\u001b[43m)\u001b[49m\n",
            "File \u001b[0;32m/opt/conda/lib/python3.10/site-packages/sagemaker/session.py:1587\u001b[0m, in \u001b[0;36mSession.process.<locals>.submit\u001b[0;34m(request)\u001b[0m\n\u001b[1;32m   1579\u001b[0m troubleshooting \u001b[38;5;241m=\u001b[39m (\n\u001b[1;32m   1580\u001b[0m     \u001b[38;5;124m\"\u001b[39m\u001b[38;5;124mhttps://docs.aws.amazon.com/sagemaker/latest/dg/\u001b[39m\u001b[38;5;124m\"\u001b[39m\n\u001b[1;32m   1581\u001b[0m     \u001b[38;5;124m\"\u001b[39m\u001b[38;5;124msagemaker-python-sdk-troubleshooting.html\u001b[39m\u001b[38;5;124m\"\u001b[39m\n\u001b[1;32m   1582\u001b[0m     \u001b[38;5;124m\"\u001b[39m\u001b[38;5;124m#sagemaker-python-sdk-troubleshooting-create-processing-job\u001b[39m\u001b[38;5;124m\"\u001b[39m\n\u001b[1;32m   1583\u001b[0m )\n\u001b[1;32m   1584\u001b[0m logger\u001b[38;5;241m.\u001b[39merror(\n\u001b[1;32m   1585\u001b[0m     \u001b[38;5;124m\"\u001b[39m\u001b[38;5;124mPlease check the troubleshooting guide for common errors: \u001b[39m\u001b[38;5;132;01m%s\u001b[39;00m\u001b[38;5;124m\"\u001b[39m, troubleshooting\n\u001b[1;32m   1586\u001b[0m )\n\u001b[0;32m-> 1587\u001b[0m \u001b[38;5;28;01mraise\u001b[39;00m e\n",
            "File \u001b[0;32m/opt/conda/lib/python3.10/site-packages/sagemaker/session.py:1577\u001b[0m, in \u001b[0;36mSession.process.<locals>.submit\u001b[0;34m(request)\u001b[0m\n\u001b[1;32m   1575\u001b[0m     logger\u001b[38;5;241m.\u001b[39minfo(\u001b[38;5;124m\"\u001b[39m\u001b[38;5;124mCreating processing-job with name \u001b[39m\u001b[38;5;132;01m%s\u001b[39;00m\u001b[38;5;124m\"\u001b[39m, job_name)\n\u001b[1;32m   1576\u001b[0m     logger\u001b[38;5;241m.\u001b[39mdebug(\u001b[38;5;124m\"\u001b[39m\u001b[38;5;124mprocess request: \u001b[39m\u001b[38;5;132;01m%s\u001b[39;00m\u001b[38;5;124m\"\u001b[39m, json\u001b[38;5;241m.\u001b[39mdumps(request, indent\u001b[38;5;241m=\u001b[39m\u001b[38;5;241m4\u001b[39m))\n\u001b[0;32m-> 1577\u001b[0m     \u001b[38;5;28;43mself\u001b[39;49m\u001b[38;5;241;43m.\u001b[39;49m\u001b[43msagemaker_client\u001b[49m\u001b[38;5;241;43m.\u001b[39;49m\u001b[43mcreate_processing_job\u001b[49m\u001b[43m(\u001b[49m\u001b[38;5;241;43m*\u001b[39;49m\u001b[38;5;241;43m*\u001b[39;49m\u001b[43mrequest\u001b[49m\u001b[43m)\u001b[49m\n\u001b[1;32m   1578\u001b[0m \u001b[38;5;28;01mexcept\u001b[39;00m \u001b[38;5;167;01mException\u001b[39;00m \u001b[38;5;28;01mas\u001b[39;00m e:\n\u001b[1;32m   1579\u001b[0m     troubleshooting \u001b[38;5;241m=\u001b[39m (\n\u001b[1;32m   1580\u001b[0m         \u001b[38;5;124m\"\u001b[39m\u001b[38;5;124mhttps://docs.aws.amazon.com/sagemaker/latest/dg/\u001b[39m\u001b[38;5;124m\"\u001b[39m\n\u001b[1;32m   1581\u001b[0m         \u001b[38;5;124m\"\u001b[39m\u001b[38;5;124msagemaker-python-sdk-troubleshooting.html\u001b[39m\u001b[38;5;124m\"\u001b[39m\n\u001b[1;32m   1582\u001b[0m         \u001b[38;5;124m\"\u001b[39m\u001b[38;5;124m#sagemaker-python-sdk-troubleshooting-create-processing-job\u001b[39m\u001b[38;5;124m\"\u001b[39m\n\u001b[1;32m   1583\u001b[0m     )\n",
            "File \u001b[0;32m/opt/conda/lib/python3.10/site-packages/botocore/client.py:569\u001b[0m, in \u001b[0;36mClientCreator._create_api_method.<locals>._api_call\u001b[0;34m(self, *args, **kwargs)\u001b[0m\n\u001b[1;32m    565\u001b[0m     \u001b[38;5;28;01mraise\u001b[39;00m \u001b[38;5;167;01mTypeError\u001b[39;00m(\n\u001b[1;32m    566\u001b[0m         \u001b[38;5;124mf\u001b[39m\u001b[38;5;124m\"\u001b[39m\u001b[38;5;132;01m{\u001b[39;00mpy_operation_name\u001b[38;5;132;01m}\u001b[39;00m\u001b[38;5;124m() only accepts keyword arguments.\u001b[39m\u001b[38;5;124m\"\u001b[39m\n\u001b[1;32m    567\u001b[0m     )\n\u001b[1;32m    568\u001b[0m \u001b[38;5;66;03m# The \"self\" in this scope is referring to the BaseClient.\u001b[39;00m\n\u001b[0;32m--> 569\u001b[0m \u001b[38;5;28;01mreturn\u001b[39;00m \u001b[38;5;28;43mself\u001b[39;49m\u001b[38;5;241;43m.\u001b[39;49m\u001b[43m_make_api_call\u001b[49m\u001b[43m(\u001b[49m\u001b[43moperation_name\u001b[49m\u001b[43m,\u001b[49m\u001b[43m \u001b[49m\u001b[43mkwargs\u001b[49m\u001b[43m)\u001b[49m\n",
            "File \u001b[0;32m/opt/conda/lib/python3.10/site-packages/botocore/client.py:1023\u001b[0m, in \u001b[0;36mBaseClient._make_api_call\u001b[0;34m(self, operation_name, api_params)\u001b[0m\n\u001b[1;32m   1019\u001b[0m     error_code \u001b[38;5;241m=\u001b[39m error_info\u001b[38;5;241m.\u001b[39mget(\u001b[38;5;124m\"\u001b[39m\u001b[38;5;124mQueryErrorCode\u001b[39m\u001b[38;5;124m\"\u001b[39m) \u001b[38;5;129;01mor\u001b[39;00m error_info\u001b[38;5;241m.\u001b[39mget(\n\u001b[1;32m   1020\u001b[0m         \u001b[38;5;124m\"\u001b[39m\u001b[38;5;124mCode\u001b[39m\u001b[38;5;124m\"\u001b[39m\n\u001b[1;32m   1021\u001b[0m     )\n\u001b[1;32m   1022\u001b[0m     error_class \u001b[38;5;241m=\u001b[39m \u001b[38;5;28mself\u001b[39m\u001b[38;5;241m.\u001b[39mexceptions\u001b[38;5;241m.\u001b[39mfrom_code(error_code)\n\u001b[0;32m-> 1023\u001b[0m     \u001b[38;5;28;01mraise\u001b[39;00m error_class(parsed_response, operation_name)\n\u001b[1;32m   1024\u001b[0m \u001b[38;5;28;01melse\u001b[39;00m:\n\u001b[1;32m   1025\u001b[0m     \u001b[38;5;28;01mreturn\u001b[39;00m parsed_response\n",
            "\u001b[0;31mClientError\u001b[0m: An error occurred (ValidationException) when calling the CreateProcessingJob operation: Invalid image URI public.ecr.aws/docker/library/python:3.10-slim-bullseye. Please provide a valid Amazon Elastic Container Registry path of the Docker image to run."
          ]
        }
      ],
      "source": [
        "#processing-job\n",
        "import os\n",
        "from sagemaker.processing import ProcessingInput, ProcessingOutput\n",
        "\n",
        "# Amazon S3 path prefix\n",
        "input_raw_data_prefix = \"data/input\"\n",
        "output_preprocessed_data_prefix = \"data/output\"\n",
        "\n",
        "# Run the processing job\n",
        "script_processor.run(\n",
        "    code=\"sklearn_preprocessing.py\",\n",
        "    inputs=[ProcessingInput(source=\"s3://\" + os.path.join(bucket, input_raw_data_prefix, \"adult_data.csv\"),\n",
        "                            destination=\"/opt/ml/processing/input\")],\n",
        "    outputs=[\n",
        "        ProcessingOutput(output_name=\"train_data\",\n",
        "                         source=\"/opt/ml/processing/train\",\n",
        "                         destination=\"s3://\" + os.path.join(bucket, output_preprocessed_data_prefix, \"train\")),\n",
        "        ProcessingOutput(output_name=\"test_data\",\n",
        "                         source=\"/opt/ml/processing/test\",\n",
        "                         destination=\"s3://\" + os.path.join(bucket, output_preprocessed_data_prefix, \"test\")),\n",
        "    ],\n",
        "    arguments=[\"--train-test-split-ratio\", \"0.2\"],\n",
        "    logs=False,\n",
        "    wait=False,\n",
        ")\n",
        "script_processor_job_description = script_processor.jobs[-1].describe()\n",
        "print(script_processor_job_description)"
      ]
    },
    {
      "cell_type": "markdown",
      "metadata": {
        "id": "Kzu3ycmOrYfq"
      },
      "source": [
        "### Task 4.6: Validate the data processing results\n",
        "\n",
        "Validate the output of the processing job that you ran by looking at the first five rows of the train and test output datasets."
      ]
    },
    {
      "cell_type": "code",
      "execution_count": null,
      "metadata": {
        "id": "DpdCYoNJrYfq"
      },
      "outputs": [],
      "source": [
        "#view-train-dataset\n",
        "print(\"Top 5 rows from s3://{}/{}/train/\".format(bucket, output_preprocessed_data_prefix))\n",
        "!aws s3 cp --quiet s3://$bucket/$output_preprocessed_data_prefix/train/train_features.csv - | head -n5"
      ]
    },
    {
      "cell_type": "code",
      "execution_count": null,
      "metadata": {
        "id": "Ylfzzw-qrYfr"
      },
      "outputs": [],
      "source": [
        "#view-validation-dataset\n",
        "print(\"Top 5 rows from s3://{}/{}/validation/\".format(bucket, output_preprocessed_data_prefix))\n",
        "!aws s3 cp --quiet s3://$bucket/$output_preprocessed_data_prefix/test/test_features.csv - | head -n5"
      ]
    },
    {
      "cell_type": "markdown",
      "metadata": {
        "id": "PGy7qZomrYfr"
      },
      "source": [
        "### Conclusion\n",
        "\n",
        "Congratulations! You have successfully built your own processing container and used SageMaker Processing to run the processing job.\n",
        "\n",
        "### Cleanup\n",
        "\n",
        "You have completed this notebook. To move to the next part of the lab, do the following:\n",
        "\n",
        "- Close this notebook file.\n",
        "- Return to the lab session and continue with the **Conclusion**."
      ]
    }
  ],
  "metadata": {
    "availableInstances": [
      {
        "_defaultOrder": 0,
        "_isFastLaunch": true,
        "category": "General purpose",
        "gpuNum": 0,
        "hideHardwareSpecs": false,
        "memoryGiB": 4,
        "name": "ml.t3.medium",
        "vcpuNum": 2
      },
      {
        "_defaultOrder": 1,
        "_isFastLaunch": false,
        "category": "General purpose",
        "gpuNum": 0,
        "hideHardwareSpecs": false,
        "memoryGiB": 8,
        "name": "ml.t3.large",
        "vcpuNum": 2
      },
      {
        "_defaultOrder": 2,
        "_isFastLaunch": false,
        "category": "General purpose",
        "gpuNum": 0,
        "hideHardwareSpecs": false,
        "memoryGiB": 16,
        "name": "ml.t3.xlarge",
        "vcpuNum": 4
      },
      {
        "_defaultOrder": 3,
        "_isFastLaunch": false,
        "category": "General purpose",
        "gpuNum": 0,
        "hideHardwareSpecs": false,
        "memoryGiB": 32,
        "name": "ml.t3.2xlarge",
        "vcpuNum": 8
      },
      {
        "_defaultOrder": 4,
        "_isFastLaunch": true,
        "category": "General purpose",
        "gpuNum": 0,
        "hideHardwareSpecs": false,
        "memoryGiB": 8,
        "name": "ml.m5.large",
        "vcpuNum": 2
      },
      {
        "_defaultOrder": 5,
        "_isFastLaunch": false,
        "category": "General purpose",
        "gpuNum": 0,
        "hideHardwareSpecs": false,
        "memoryGiB": 16,
        "name": "ml.m5.xlarge",
        "vcpuNum": 4
      },
      {
        "_defaultOrder": 6,
        "_isFastLaunch": false,
        "category": "General purpose",
        "gpuNum": 0,
        "hideHardwareSpecs": false,
        "memoryGiB": 32,
        "name": "ml.m5.2xlarge",
        "vcpuNum": 8
      },
      {
        "_defaultOrder": 7,
        "_isFastLaunch": false,
        "category": "General purpose",
        "gpuNum": 0,
        "hideHardwareSpecs": false,
        "memoryGiB": 64,
        "name": "ml.m5.4xlarge",
        "vcpuNum": 16
      },
      {
        "_defaultOrder": 8,
        "_isFastLaunch": false,
        "category": "General purpose",
        "gpuNum": 0,
        "hideHardwareSpecs": false,
        "memoryGiB": 128,
        "name": "ml.m5.8xlarge",
        "vcpuNum": 32
      },
      {
        "_defaultOrder": 9,
        "_isFastLaunch": false,
        "category": "General purpose",
        "gpuNum": 0,
        "hideHardwareSpecs": false,
        "memoryGiB": 192,
        "name": "ml.m5.12xlarge",
        "vcpuNum": 48
      },
      {
        "_defaultOrder": 10,
        "_isFastLaunch": false,
        "category": "General purpose",
        "gpuNum": 0,
        "hideHardwareSpecs": false,
        "memoryGiB": 256,
        "name": "ml.m5.16xlarge",
        "vcpuNum": 64
      },
      {
        "_defaultOrder": 11,
        "_isFastLaunch": false,
        "category": "General purpose",
        "gpuNum": 0,
        "hideHardwareSpecs": false,
        "memoryGiB": 384,
        "name": "ml.m5.24xlarge",
        "vcpuNum": 96
      },
      {
        "_defaultOrder": 12,
        "_isFastLaunch": false,
        "category": "General purpose",
        "gpuNum": 0,
        "hideHardwareSpecs": false,
        "memoryGiB": 8,
        "name": "ml.m5d.large",
        "vcpuNum": 2
      },
      {
        "_defaultOrder": 13,
        "_isFastLaunch": false,
        "category": "General purpose",
        "gpuNum": 0,
        "hideHardwareSpecs": false,
        "memoryGiB": 16,
        "name": "ml.m5d.xlarge",
        "vcpuNum": 4
      },
      {
        "_defaultOrder": 14,
        "_isFastLaunch": false,
        "category": "General purpose",
        "gpuNum": 0,
        "hideHardwareSpecs": false,
        "memoryGiB": 32,
        "name": "ml.m5d.2xlarge",
        "vcpuNum": 8
      },
      {
        "_defaultOrder": 15,
        "_isFastLaunch": false,
        "category": "General purpose",
        "gpuNum": 0,
        "hideHardwareSpecs": false,
        "memoryGiB": 64,
        "name": "ml.m5d.4xlarge",
        "vcpuNum": 16
      },
      {
        "_defaultOrder": 16,
        "_isFastLaunch": false,
        "category": "General purpose",
        "gpuNum": 0,
        "hideHardwareSpecs": false,
        "memoryGiB": 128,
        "name": "ml.m5d.8xlarge",
        "vcpuNum": 32
      },
      {
        "_defaultOrder": 17,
        "_isFastLaunch": false,
        "category": "General purpose",
        "gpuNum": 0,
        "hideHardwareSpecs": false,
        "memoryGiB": 192,
        "name": "ml.m5d.12xlarge",
        "vcpuNum": 48
      },
      {
        "_defaultOrder": 18,
        "_isFastLaunch": false,
        "category": "General purpose",
        "gpuNum": 0,
        "hideHardwareSpecs": false,
        "memoryGiB": 256,
        "name": "ml.m5d.16xlarge",
        "vcpuNum": 64
      },
      {
        "_defaultOrder": 19,
        "_isFastLaunch": false,
        "category": "General purpose",
        "gpuNum": 0,
        "hideHardwareSpecs": false,
        "memoryGiB": 384,
        "name": "ml.m5d.24xlarge",
        "vcpuNum": 96
      },
      {
        "_defaultOrder": 20,
        "_isFastLaunch": false,
        "category": "General purpose",
        "gpuNum": 0,
        "hideHardwareSpecs": true,
        "memoryGiB": 0,
        "name": "ml.geospatial.interactive",
        "supportedImageNames": [
          "sagemaker-geospatial-v1-0"
        ],
        "vcpuNum": 0
      },
      {
        "_defaultOrder": 21,
        "_isFastLaunch": true,
        "category": "Compute optimized",
        "gpuNum": 0,
        "hideHardwareSpecs": false,
        "memoryGiB": 4,
        "name": "ml.c5.large",
        "vcpuNum": 2
      },
      {
        "_defaultOrder": 22,
        "_isFastLaunch": false,
        "category": "Compute optimized",
        "gpuNum": 0,
        "hideHardwareSpecs": false,
        "memoryGiB": 8,
        "name": "ml.c5.xlarge",
        "vcpuNum": 4
      },
      {
        "_defaultOrder": 23,
        "_isFastLaunch": false,
        "category": "Compute optimized",
        "gpuNum": 0,
        "hideHardwareSpecs": false,
        "memoryGiB": 16,
        "name": "ml.c5.2xlarge",
        "vcpuNum": 8
      },
      {
        "_defaultOrder": 24,
        "_isFastLaunch": false,
        "category": "Compute optimized",
        "gpuNum": 0,
        "hideHardwareSpecs": false,
        "memoryGiB": 32,
        "name": "ml.c5.4xlarge",
        "vcpuNum": 16
      },
      {
        "_defaultOrder": 25,
        "_isFastLaunch": false,
        "category": "Compute optimized",
        "gpuNum": 0,
        "hideHardwareSpecs": false,
        "memoryGiB": 72,
        "name": "ml.c5.9xlarge",
        "vcpuNum": 36
      },
      {
        "_defaultOrder": 26,
        "_isFastLaunch": false,
        "category": "Compute optimized",
        "gpuNum": 0,
        "hideHardwareSpecs": false,
        "memoryGiB": 96,
        "name": "ml.c5.12xlarge",
        "vcpuNum": 48
      },
      {
        "_defaultOrder": 27,
        "_isFastLaunch": false,
        "category": "Compute optimized",
        "gpuNum": 0,
        "hideHardwareSpecs": false,
        "memoryGiB": 144,
        "name": "ml.c5.18xlarge",
        "vcpuNum": 72
      },
      {
        "_defaultOrder": 28,
        "_isFastLaunch": false,
        "category": "Compute optimized",
        "gpuNum": 0,
        "hideHardwareSpecs": false,
        "memoryGiB": 192,
        "name": "ml.c5.24xlarge",
        "vcpuNum": 96
      },
      {
        "_defaultOrder": 29,
        "_isFastLaunch": true,
        "category": "Accelerated computing",
        "gpuNum": 1,
        "hideHardwareSpecs": false,
        "memoryGiB": 16,
        "name": "ml.g4dn.xlarge",
        "vcpuNum": 4
      },
      {
        "_defaultOrder": 30,
        "_isFastLaunch": false,
        "category": "Accelerated computing",
        "gpuNum": 1,
        "hideHardwareSpecs": false,
        "memoryGiB": 32,
        "name": "ml.g4dn.2xlarge",
        "vcpuNum": 8
      },
      {
        "_defaultOrder": 31,
        "_isFastLaunch": false,
        "category": "Accelerated computing",
        "gpuNum": 1,
        "hideHardwareSpecs": false,
        "memoryGiB": 64,
        "name": "ml.g4dn.4xlarge",
        "vcpuNum": 16
      },
      {
        "_defaultOrder": 32,
        "_isFastLaunch": false,
        "category": "Accelerated computing",
        "gpuNum": 1,
        "hideHardwareSpecs": false,
        "memoryGiB": 128,
        "name": "ml.g4dn.8xlarge",
        "vcpuNum": 32
      },
      {
        "_defaultOrder": 33,
        "_isFastLaunch": false,
        "category": "Accelerated computing",
        "gpuNum": 4,
        "hideHardwareSpecs": false,
        "memoryGiB": 192,
        "name": "ml.g4dn.12xlarge",
        "vcpuNum": 48
      },
      {
        "_defaultOrder": 34,
        "_isFastLaunch": false,
        "category": "Accelerated computing",
        "gpuNum": 1,
        "hideHardwareSpecs": false,
        "memoryGiB": 256,
        "name": "ml.g4dn.16xlarge",
        "vcpuNum": 64
      },
      {
        "_defaultOrder": 35,
        "_isFastLaunch": false,
        "category": "Accelerated computing",
        "gpuNum": 1,
        "hideHardwareSpecs": false,
        "memoryGiB": 61,
        "name": "ml.p3.2xlarge",
        "vcpuNum": 8
      },
      {
        "_defaultOrder": 36,
        "_isFastLaunch": false,
        "category": "Accelerated computing",
        "gpuNum": 4,
        "hideHardwareSpecs": false,
        "memoryGiB": 244,
        "name": "ml.p3.8xlarge",
        "vcpuNum": 32
      },
      {
        "_defaultOrder": 37,
        "_isFastLaunch": false,
        "category": "Accelerated computing",
        "gpuNum": 8,
        "hideHardwareSpecs": false,
        "memoryGiB": 488,
        "name": "ml.p3.16xlarge",
        "vcpuNum": 64
      },
      {
        "_defaultOrder": 38,
        "_isFastLaunch": false,
        "category": "Accelerated computing",
        "gpuNum": 8,
        "hideHardwareSpecs": false,
        "memoryGiB": 768,
        "name": "ml.p3dn.24xlarge",
        "vcpuNum": 96
      },
      {
        "_defaultOrder": 39,
        "_isFastLaunch": false,
        "category": "Memory Optimized",
        "gpuNum": 0,
        "hideHardwareSpecs": false,
        "memoryGiB": 16,
        "name": "ml.r5.large",
        "vcpuNum": 2
      },
      {
        "_defaultOrder": 40,
        "_isFastLaunch": false,
        "category": "Memory Optimized",
        "gpuNum": 0,
        "hideHardwareSpecs": false,
        "memoryGiB": 32,
        "name": "ml.r5.xlarge",
        "vcpuNum": 4
      },
      {
        "_defaultOrder": 41,
        "_isFastLaunch": false,
        "category": "Memory Optimized",
        "gpuNum": 0,
        "hideHardwareSpecs": false,
        "memoryGiB": 64,
        "name": "ml.r5.2xlarge",
        "vcpuNum": 8
      },
      {
        "_defaultOrder": 42,
        "_isFastLaunch": false,
        "category": "Memory Optimized",
        "gpuNum": 0,
        "hideHardwareSpecs": false,
        "memoryGiB": 128,
        "name": "ml.r5.4xlarge",
        "vcpuNum": 16
      },
      {
        "_defaultOrder": 43,
        "_isFastLaunch": false,
        "category": "Memory Optimized",
        "gpuNum": 0,
        "hideHardwareSpecs": false,
        "memoryGiB": 256,
        "name": "ml.r5.8xlarge",
        "vcpuNum": 32
      },
      {
        "_defaultOrder": 44,
        "_isFastLaunch": false,
        "category": "Memory Optimized",
        "gpuNum": 0,
        "hideHardwareSpecs": false,
        "memoryGiB": 384,
        "name": "ml.r5.12xlarge",
        "vcpuNum": 48
      },
      {
        "_defaultOrder": 45,
        "_isFastLaunch": false,
        "category": "Memory Optimized",
        "gpuNum": 0,
        "hideHardwareSpecs": false,
        "memoryGiB": 512,
        "name": "ml.r5.16xlarge",
        "vcpuNum": 64
      },
      {
        "_defaultOrder": 46,
        "_isFastLaunch": false,
        "category": "Memory Optimized",
        "gpuNum": 0,
        "hideHardwareSpecs": false,
        "memoryGiB": 768,
        "name": "ml.r5.24xlarge",
        "vcpuNum": 96
      },
      {
        "_defaultOrder": 47,
        "_isFastLaunch": false,
        "category": "Accelerated computing",
        "gpuNum": 1,
        "hideHardwareSpecs": false,
        "memoryGiB": 16,
        "name": "ml.g5.xlarge",
        "vcpuNum": 4
      },
      {
        "_defaultOrder": 48,
        "_isFastLaunch": false,
        "category": "Accelerated computing",
        "gpuNum": 1,
        "hideHardwareSpecs": false,
        "memoryGiB": 32,
        "name": "ml.g5.2xlarge",
        "vcpuNum": 8
      },
      {
        "_defaultOrder": 49,
        "_isFastLaunch": false,
        "category": "Accelerated computing",
        "gpuNum": 1,
        "hideHardwareSpecs": false,
        "memoryGiB": 64,
        "name": "ml.g5.4xlarge",
        "vcpuNum": 16
      },
      {
        "_defaultOrder": 50,
        "_isFastLaunch": false,
        "category": "Accelerated computing",
        "gpuNum": 1,
        "hideHardwareSpecs": false,
        "memoryGiB": 128,
        "name": "ml.g5.8xlarge",
        "vcpuNum": 32
      },
      {
        "_defaultOrder": 51,
        "_isFastLaunch": false,
        "category": "Accelerated computing",
        "gpuNum": 1,
        "hideHardwareSpecs": false,
        "memoryGiB": 256,
        "name": "ml.g5.16xlarge",
        "vcpuNum": 64
      },
      {
        "_defaultOrder": 52,
        "_isFastLaunch": false,
        "category": "Accelerated computing",
        "gpuNum": 4,
        "hideHardwareSpecs": false,
        "memoryGiB": 192,
        "name": "ml.g5.12xlarge",
        "vcpuNum": 48
      },
      {
        "_defaultOrder": 53,
        "_isFastLaunch": false,
        "category": "Accelerated computing",
        "gpuNum": 4,
        "hideHardwareSpecs": false,
        "memoryGiB": 384,
        "name": "ml.g5.24xlarge",
        "vcpuNum": 96
      },
      {
        "_defaultOrder": 54,
        "_isFastLaunch": false,
        "category": "Accelerated computing",
        "gpuNum": 8,
        "hideHardwareSpecs": false,
        "memoryGiB": 768,
        "name": "ml.g5.48xlarge",
        "vcpuNum": 192
      },
      {
        "_defaultOrder": 55,
        "_isFastLaunch": false,
        "category": "Accelerated computing",
        "gpuNum": 8,
        "hideHardwareSpecs": false,
        "memoryGiB": 1152,
        "name": "ml.p4d.24xlarge",
        "vcpuNum": 96
      },
      {
        "_defaultOrder": 56,
        "_isFastLaunch": false,
        "category": "Accelerated computing",
        "gpuNum": 8,
        "hideHardwareSpecs": false,
        "memoryGiB": 1152,
        "name": "ml.p4de.24xlarge",
        "vcpuNum": 96
      },
      {
        "_defaultOrder": 57,
        "_isFastLaunch": false,
        "category": "Accelerated computing",
        "gpuNum": 0,
        "hideHardwareSpecs": false,
        "memoryGiB": 32,
        "name": "ml.trn1.2xlarge",
        "vcpuNum": 8
      },
      {
        "_defaultOrder": 58,
        "_isFastLaunch": false,
        "category": "Accelerated computing",
        "gpuNum": 0,
        "hideHardwareSpecs": false,
        "memoryGiB": 512,
        "name": "ml.trn1.32xlarge",
        "vcpuNum": 128
      },
      {
        "_defaultOrder": 59,
        "_isFastLaunch": false,
        "category": "Accelerated computing",
        "gpuNum": 0,
        "hideHardwareSpecs": false,
        "memoryGiB": 512,
        "name": "ml.trn1n.32xlarge",
        "vcpuNum": 128
      }
    ],
    "instance_type": "ml.t3.medium",
    "kernelspec": {
      "display_name": "Python 3 (Data Science 3.0)",
      "language": "python",
      "name": "python3__SAGEMAKER_INTERNAL__arn:aws:sagemaker:us-west-2:236514542706:image/sagemaker-data-science-310-v1"
    },
    "language_info": {
      "codemirror_mode": {
        "name": "ipython",
        "version": 3
      },
      "file_extension": ".py",
      "mimetype": "text/x-python",
      "name": "python",
      "nbconvert_exporter": "python",
      "pygments_lexer": "ipython3",
      "version": "3.10.6"
    },
    "vscode": {
      "interpreter": {
        "hash": "741de909edea0d5644898c592544ed98bede62b404d20772e5c4abc3c2f12566"
      }
    },
    "colab": {
      "provenance": [],
      "include_colab_link": true
    }
  },
  "nbformat": 4,
  "nbformat_minor": 0
}